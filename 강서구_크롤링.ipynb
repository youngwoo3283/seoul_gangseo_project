{
 "cells": [
  {
   "cell_type": "code",
   "execution_count": 1,
   "metadata": {},
   "outputs": [
    {
     "name": "stdout",
     "output_type": "stream",
     "text": [
      "Requirement already satisfied: selenium in c:\\users\\blues\\appdata\\local\\programs\\python\\python311\\lib\\site-packages (4.8.0)\n",
      "Requirement already satisfied: urllib3[socks]~=1.26 in c:\\users\\blues\\appdata\\local\\programs\\python\\python311\\lib\\site-packages (from selenium) (1.26.13)\n",
      "Requirement already satisfied: trio~=0.17 in c:\\users\\blues\\appdata\\local\\programs\\python\\python311\\lib\\site-packages (from selenium) (0.22.0)\n",
      "Requirement already satisfied: trio-websocket~=0.9 in c:\\users\\blues\\appdata\\local\\programs\\python\\python311\\lib\\site-packages (from selenium) (0.9.2)\n",
      "Requirement already satisfied: certifi>=2021.10.8 in c:\\users\\blues\\appdata\\local\\programs\\python\\python311\\lib\\site-packages (from selenium) (2022.12.7)\n",
      "Requirement already satisfied: attrs>=19.2.0 in c:\\users\\blues\\appdata\\local\\programs\\python\\python311\\lib\\site-packages (from trio~=0.17->selenium) (22.1.0)\n",
      "Requirement already satisfied: sortedcontainers in c:\\users\\blues\\appdata\\local\\programs\\python\\python311\\lib\\site-packages (from trio~=0.17->selenium) (2.4.0)\n",
      "Requirement already satisfied: async-generator>=1.9 in c:\\users\\blues\\appdata\\local\\programs\\python\\python311\\lib\\site-packages (from trio~=0.17->selenium) (1.10)\n",
      "Requirement already satisfied: idna in c:\\users\\blues\\appdata\\local\\programs\\python\\python311\\lib\\site-packages (from trio~=0.17->selenium) (3.4)\n",
      "Requirement already satisfied: outcome in c:\\users\\blues\\appdata\\local\\programs\\python\\python311\\lib\\site-packages (from trio~=0.17->selenium) (1.2.0)\n",
      "Requirement already satisfied: sniffio in c:\\users\\blues\\appdata\\local\\programs\\python\\python311\\lib\\site-packages (from trio~=0.17->selenium) (1.3.0)\n",
      "Requirement already satisfied: cffi>=1.14 in c:\\users\\blues\\appdata\\local\\programs\\python\\python311\\lib\\site-packages (from trio~=0.17->selenium) (1.15.1)\n",
      "Requirement already satisfied: wsproto>=0.14 in c:\\users\\blues\\appdata\\local\\programs\\python\\python311\\lib\\site-packages (from trio-websocket~=0.9->selenium) (1.2.0)\n",
      "Requirement already satisfied: PySocks!=1.5.7,<2.0,>=1.5.6 in c:\\users\\blues\\appdata\\local\\programs\\python\\python311\\lib\\site-packages (from urllib3[socks]~=1.26->selenium) (1.7.1)\n",
      "Requirement already satisfied: pycparser in c:\\users\\blues\\appdata\\local\\programs\\python\\python311\\lib\\site-packages (from cffi>=1.14->trio~=0.17->selenium) (2.21)\n",
      "Requirement already satisfied: h11<1,>=0.9.0 in c:\\users\\blues\\appdata\\local\\programs\\python\\python311\\lib\\site-packages (from wsproto>=0.14->trio-websocket~=0.9->selenium) (0.14.0)\n",
      "Note: you may need to restart the kernel to use updated packages.\n"
     ]
    },
    {
     "name": "stderr",
     "output_type": "stream",
     "text": [
      "\n",
      "[notice] A new release of pip is available: 23.0 -> 23.0.1\n",
      "[notice] To update, run: python.exe -m pip install --upgrade pip\n"
     ]
    }
   ],
   "source": [
    "pip install selenium"
   ]
  },
  {
   "cell_type": "code",
   "execution_count": 6,
   "metadata": {},
   "outputs": [],
   "source": [
    "from selenium import webdriver\n",
    "from selenium.webdriver.common.keys import Keys # enter 치는 명령어\n",
    "import pandas as pd \n",
    "from selenium.webdriver.common.by import By\n",
    "from selenium.webdriver.chrome.service import Service\n",
    "\n",
    "from webdriver_manager.chrome import ChromeDriverManager\n",
    "import re\n",
    "\n",
    "from selenium.webdriver.support.ui import WebDriverWait\n",
    "from selenium.webdriver.support import expected_conditions as EC\n",
    "\n",
    "from selenium import webdriver\n",
    "import time\n",
    "from bs4 import BeautifulSoup\n",
    "import re"
   ]
  },
  {
   "cell_type": "code",
   "execution_count": 23,
   "metadata": {},
   "outputs": [
    {
     "name": "stderr",
     "output_type": "stream",
     "text": [
      "C:\\Users\\blues\\AppData\\Local\\Temp\\ipykernel_13116\\3804839153.py:1: DeprecationWarning: executable_path has been deprecated, please pass in a Service object\n",
      "  browser = webdriver.Chrome('C:/Users/blues/OneDrive/바탕 화면/chromedriver_win32 (1)/chromedriver')\n"
     ]
    },
    {
     "ename": "NoSuchElementException",
     "evalue": "Message: no such element: Unable to locate element: {\"method\":\"xpath\",\"selector\":\"/html/body/div[3]/div/div/div/div[6]/div/div[2]/div/div/div[1]/div/a\"}\n  (Session info: chrome=111.0.5563.65)\nStacktrace:\nBacktrace:\n\t(No symbol) [0x00A637D3]\n\t(No symbol) [0x009F8B81]\n\t(No symbol) [0x008FB36D]\n\t(No symbol) [0x0092D382]\n\t(No symbol) [0x0092D4BB]\n\t(No symbol) [0x00963302]\n\t(No symbol) [0x0094B464]\n\t(No symbol) [0x00961215]\n\t(No symbol) [0x0094B216]\n\t(No symbol) [0x00920D97]\n\t(No symbol) [0x0092253D]\n\tGetHandleVerifier [0x00CDABF2+2510930]\n\tGetHandleVerifier [0x00D08EC1+2700065]\n\tGetHandleVerifier [0x00D0C86C+2714828]\n\tGetHandleVerifier [0x00B13480+645344]\n\t(No symbol) [0x00A00FD2]\n\t(No symbol) [0x00A06C68]\n\t(No symbol) [0x00A06D4B]\n\t(No symbol) [0x00A10D6B]\n\tBaseThreadInitThunk [0x771C00F9+25]\n\tRtlGetAppContainerNamedObjectPath [0x77727BBE+286]\n\tRtlGetAppContainerNamedObjectPath [0x77727B8E+238]\n",
     "output_type": "error",
     "traceback": [
      "\u001b[1;31m---------------------------------------------------------------------------\u001b[0m",
      "\u001b[1;31mNoSuchElementException\u001b[0m                    Traceback (most recent call last)",
      "Cell \u001b[1;32mIn[23], line 54\u001b[0m\n\u001b[0;32m     42\u001b[0m time\u001b[39m.\u001b[39msleep(\u001b[39m3\u001b[39m)\n\u001b[0;32m     44\u001b[0m \u001b[39m# #페이지 이동하기\u001b[39;00m\n\u001b[0;32m     45\u001b[0m \u001b[39m# browser.find_element(By.XPATH,'//*[@id=\"app-root\"]/div/div[3]/div[2]/a[3]').click()\u001b[39;00m\n\u001b[0;32m     46\u001b[0m \u001b[39m# time.sleep(3)\u001b[39;00m\n\u001b[1;32m   (...)\u001b[0m\n\u001b[0;32m     52\u001b[0m \u001b[39m#동물가게의 주소 저장하기\u001b[39;00m\n\u001b[0;32m     53\u001b[0m \u001b[39m#browser.find_element(By.XPATH,'/html/body/div[3]/div/div/div/div[6]/div/div[2]/div/div/div[1]/div/a/span[1]').click()\u001b[39;00m\n\u001b[1;32m---> 54\u001b[0m browser\u001b[39m.\u001b[39;49mfind_element(By\u001b[39m.\u001b[39;49mXPATH,\u001b[39m'\u001b[39;49m\u001b[39m/html/body/div[3]/div/div/div/div[6]/div/div[2]/div/div/div[1]/div/a\u001b[39;49m\u001b[39m'\u001b[39;49m)\u001b[39m.\u001b[39mclick()\n\u001b[0;32m     57\u001b[0m \u001b[39m#print(name)\u001b[39;00m\n\u001b[0;32m     58\u001b[0m \n\u001b[0;32m     59\u001b[0m \n\u001b[1;32m   (...)\u001b[0m\n\u001b[0;32m     62\u001b[0m \u001b[39m#//*[@id=\"app-root\"]/div/div/div/div[6]/div/div[2]/div/div/div[1]/div/a/span[1]\u001b[39;00m\n\u001b[0;32m     63\u001b[0m \u001b[39m#app-root > div > div.XUrfU > div.zRM9F > a:nth-child(3)\u001b[39;00m\n",
      "File \u001b[1;32mc:\\Users\\blues\\AppData\\Local\\Programs\\Python\\Python311\\Lib\\site-packages\\selenium\\webdriver\\remote\\webdriver.py:830\u001b[0m, in \u001b[0;36mWebDriver.find_element\u001b[1;34m(self, by, value)\u001b[0m\n\u001b[0;32m    827\u001b[0m     by \u001b[39m=\u001b[39m By\u001b[39m.\u001b[39mCSS_SELECTOR\n\u001b[0;32m    828\u001b[0m     value \u001b[39m=\u001b[39m \u001b[39mf\u001b[39m\u001b[39m'\u001b[39m\u001b[39m[name=\u001b[39m\u001b[39m\"\u001b[39m\u001b[39m{\u001b[39;00mvalue\u001b[39m}\u001b[39;00m\u001b[39m\"\u001b[39m\u001b[39m]\u001b[39m\u001b[39m'\u001b[39m\n\u001b[1;32m--> 830\u001b[0m \u001b[39mreturn\u001b[39;00m \u001b[39mself\u001b[39;49m\u001b[39m.\u001b[39;49mexecute(Command\u001b[39m.\u001b[39;49mFIND_ELEMENT, {\u001b[39m\"\u001b[39;49m\u001b[39musing\u001b[39;49m\u001b[39m\"\u001b[39;49m: by, \u001b[39m\"\u001b[39;49m\u001b[39mvalue\u001b[39;49m\u001b[39m\"\u001b[39;49m: value})[\u001b[39m\"\u001b[39m\u001b[39mvalue\u001b[39m\u001b[39m\"\u001b[39m]\n",
      "File \u001b[1;32mc:\\Users\\blues\\AppData\\Local\\Programs\\Python\\Python311\\Lib\\site-packages\\selenium\\webdriver\\remote\\webdriver.py:440\u001b[0m, in \u001b[0;36mWebDriver.execute\u001b[1;34m(self, driver_command, params)\u001b[0m\n\u001b[0;32m    438\u001b[0m response \u001b[39m=\u001b[39m \u001b[39mself\u001b[39m\u001b[39m.\u001b[39mcommand_executor\u001b[39m.\u001b[39mexecute(driver_command, params)\n\u001b[0;32m    439\u001b[0m \u001b[39mif\u001b[39;00m response:\n\u001b[1;32m--> 440\u001b[0m     \u001b[39mself\u001b[39;49m\u001b[39m.\u001b[39;49merror_handler\u001b[39m.\u001b[39;49mcheck_response(response)\n\u001b[0;32m    441\u001b[0m     response[\u001b[39m\"\u001b[39m\u001b[39mvalue\u001b[39m\u001b[39m\"\u001b[39m] \u001b[39m=\u001b[39m \u001b[39mself\u001b[39m\u001b[39m.\u001b[39m_unwrap_value(response\u001b[39m.\u001b[39mget(\u001b[39m\"\u001b[39m\u001b[39mvalue\u001b[39m\u001b[39m\"\u001b[39m, \u001b[39mNone\u001b[39;00m))\n\u001b[0;32m    442\u001b[0m     \u001b[39mreturn\u001b[39;00m response\n",
      "File \u001b[1;32mc:\\Users\\blues\\AppData\\Local\\Programs\\Python\\Python311\\Lib\\site-packages\\selenium\\webdriver\\remote\\errorhandler.py:245\u001b[0m, in \u001b[0;36mErrorHandler.check_response\u001b[1;34m(self, response)\u001b[0m\n\u001b[0;32m    243\u001b[0m         alert_text \u001b[39m=\u001b[39m value[\u001b[39m\"\u001b[39m\u001b[39malert\u001b[39m\u001b[39m\"\u001b[39m]\u001b[39m.\u001b[39mget(\u001b[39m\"\u001b[39m\u001b[39mtext\u001b[39m\u001b[39m\"\u001b[39m)\n\u001b[0;32m    244\u001b[0m     \u001b[39mraise\u001b[39;00m exception_class(message, screen, stacktrace, alert_text)  \u001b[39m# type: ignore[call-arg]  # mypy is not smart enough here\u001b[39;00m\n\u001b[1;32m--> 245\u001b[0m \u001b[39mraise\u001b[39;00m exception_class(message, screen, stacktrace)\n",
      "\u001b[1;31mNoSuchElementException\u001b[0m: Message: no such element: Unable to locate element: {\"method\":\"xpath\",\"selector\":\"/html/body/div[3]/div/div/div/div[6]/div/div[2]/div/div/div[1]/div/a\"}\n  (Session info: chrome=111.0.5563.65)\nStacktrace:\nBacktrace:\n\t(No symbol) [0x00A637D3]\n\t(No symbol) [0x009F8B81]\n\t(No symbol) [0x008FB36D]\n\t(No symbol) [0x0092D382]\n\t(No symbol) [0x0092D4BB]\n\t(No symbol) [0x00963302]\n\t(No symbol) [0x0094B464]\n\t(No symbol) [0x00961215]\n\t(No symbol) [0x0094B216]\n\t(No symbol) [0x00920D97]\n\t(No symbol) [0x0092253D]\n\tGetHandleVerifier [0x00CDABF2+2510930]\n\tGetHandleVerifier [0x00D08EC1+2700065]\n\tGetHandleVerifier [0x00D0C86C+2714828]\n\tGetHandleVerifier [0x00B13480+645344]\n\t(No symbol) [0x00A00FD2]\n\t(No symbol) [0x00A06C68]\n\t(No symbol) [0x00A06D4B]\n\t(No symbol) [0x00A10D6B]\n\tBaseThreadInitThunk [0x771C00F9+25]\n\tRtlGetAppContainerNamedObjectPath [0x77727BBE+286]\n\tRtlGetAppContainerNamedObjectPath [0x77727B8E+238]\n"
     ]
    }
   ],
   "source": [
    "browser = webdriver.Chrome('C:/Users/blues/OneDrive/바탕 화면/chromedriver_win32 (1)/chromedriver') \n",
    "\n",
    "browser.get('https://map.naver.com/v5/?c=15,0,0,0,dh') #이렇게 하면 해당 url을 화면에 띄운다.\n",
    "\n",
    "try:\n",
    "   element = WebDriverWait(browser, 10).until(\n",
    "       EC.presence_of_element_located((By.CLASS_NAME, \"input_search\"))\n",
    "   ) #입력창이 뜰 때까지 대기\n",
    "finally:\n",
    "   pass\n",
    "\n",
    "search_box = browser.find_element(By.CLASS_NAME,\"input_search\")\n",
    "search_box.send_keys(\"강서구 동물\")\n",
    "search_box.send_keys(Keys.ENTER) #검색창에 \"서울 칵테일바\" 입력\n",
    "\n",
    "time.sleep(7) #화면 표시 기다리기\n",
    "frame = browser.find_element(By.CSS_SELECTOR,\"iframe#searchIframe\")\n",
    "\n",
    "browser.switch_to.frame(frame)\n",
    "\n",
    "time.sleep(3)\n",
    "\n",
    "\n",
    "# scroll_div = browser.find_element(By.XPATH,\"/html/body/div[3]/div/div[2]/div[1]\")\n",
    "# #검색 결과로 나타나는 scroll-bar 포함한 div 잡고\n",
    "# browser.execute_script(\"arguments[0].scrollBy(0,2000)\", scroll_div)\n",
    "# time.sleep(2)\n",
    "# browser.execute_script(\"arguments[0].scrollBy(0,2000);\", scroll_div)\n",
    "# time.sleep(2)\n",
    "# browser.execute_script(\"arguments[0].scrollBy(0,2000);\", scroll_div)\n",
    "# time.sleep(2)\n",
    "# browser.execute_script(\"arguments[0].scrollBy(0,2000);\", scroll_div)\n",
    "# time.sleep(2)\n",
    "# browser.execute_script(\"arguments[0].scrollBy(0,2000);\", scroll_div)\n",
    "# time.sleep(2)\n",
    "\n",
    "# for i in range(1,49+1):\n",
    "#    browser.find_element(By.XPATH,f'//*[@id=\"_pcmap_list_scroll_container\"]/ul/li[{i}]/div[1]/div[2]/a[1]/div/div/span[1]').click()\n",
    "#    time.sleep(3)\n",
    "\n",
    "browser.find_element(By.XPATH,f'//*[@id=\"_pcmap_list_scroll_container\"]/ul/li[10]/div[1]/div[2]/a[1]/div/div/span[1]').click()\n",
    "time.sleep(3)\n",
    "\n",
    "# #페이지 이동하기\n",
    "# browser.find_element(By.XPATH,'//*[@id=\"app-root\"]/div/div[3]/div[2]/a[3]').click()\n",
    "# time.sleep(3)\n",
    "\n",
    "# #10번쨰 동물 클릭하기\n",
    "# browser.find_element(By.XPATH,f'//*[@id=\"_pcmap_list_scroll_container\"]/ul/li[10]/div[1]/div[2]/a[1]/div/div/span[1]').click()\n",
    "# time.sleep(3)\n",
    "\n",
    "#동물가게의 주소 저장하기\n",
    "#browser.find_element(By.XPATH,'/html/body/div[3]/div/div/div/div[6]/div/div[2]/div/div/div[1]/div/a/span[1]').click()\n",
    "browser.find_element(By.XPATH,'/html/body/div[3]/div/div/div/div[6]/div/div[2]/div/div/div[1]/div/a').click()\n",
    "                                    \n",
    "\n",
    "#print(name)\n",
    "\n",
    "\n",
    "#app-root > div > div > div > div:nth-child(6) > div > div.place_section.no_margin.vKA6F > div > div > div.O8qbU.tQY7D > div > a > span.LDgIH\n",
    "#//*[@id=\"app-root\"]/div/div/div/div[6]/div/div[1]/div/div/div[1]/div/a/span[1]\n",
    "#//*[@id=\"app-root\"]/div/div/div/div[6]/div/div[2]/div/div/div[1]/div/a/span[1]\n",
    "#app-root > div > div.XUrfU > div.zRM9F > a:nth-child(3)\n"
   ]
  }
 ],
 "metadata": {
  "kernelspec": {
   "display_name": "Python 3",
   "language": "python",
   "name": "python3"
  },
  "language_info": {
   "codemirror_mode": {
    "name": "ipython",
    "version": 3
   },
   "file_extension": ".py",
   "mimetype": "text/x-python",
   "name": "python",
   "nbconvert_exporter": "python",
   "pygments_lexer": "ipython3",
   "version": "3.11.1"
  },
  "orig_nbformat": 4
 },
 "nbformat": 4,
 "nbformat_minor": 2
}
